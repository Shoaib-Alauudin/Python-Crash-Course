{
 "cells": [
  {
   "cell_type": "code",
   "execution_count": 1,
   "metadata": {
    "collapsed": true
   },
   "outputs": [],
   "source": [
    "lst = [\"hello\",10,12,'C']"
   ]
  },
  {
   "cell_type": "code",
   "execution_count": 2,
   "metadata": {
    "collapsed": false
   },
   "outputs": [
    {
     "name": "stdout",
     "output_type": "stream",
     "text": [
      "['hello', 10, 12, 'C']\n"
     ]
    }
   ],
   "source": [
    "print(lst)"
   ]
  },
  {
   "cell_type": "code",
   "execution_count": 4,
   "metadata": {
    "collapsed": false
   },
   "outputs": [],
   "source": [
    "tpl = ('Hello',15 ,'C',2.00)"
   ]
  },
  {
   "cell_type": "code",
   "execution_count": 5,
   "metadata": {
    "collapsed": false
   },
   "outputs": [
    {
     "name": "stdout",
     "output_type": "stream",
     "text": [
      "('Hello', 15, 'C', 2.0)\n"
     ]
    }
   ],
   "source": [
    "print(tpl)"
   ]
  },
  {
   "cell_type": "code",
   "execution_count": 6,
   "metadata": {
    "collapsed": false
   },
   "outputs": [
    {
     "name": "stdout",
     "output_type": "stream",
     "text": [
      "Hello\n",
      "15\n",
      "C\n",
      "2.0\n"
     ]
    }
   ],
   "source": [
    "for tp in tpl:\n",
    "    print(tp)"
   ]
  },
  {
   "cell_type": "code",
   "execution_count": 10,
   "metadata": {
    "collapsed": true
   },
   "outputs": [],
   "source": [
    "dic = {'a':10,15:\"Hello\",2.0:[\"Pakistan\",'Lahore','Islamabad'],'pak':10000}"
   ]
  },
  {
   "cell_type": "code",
   "execution_count": 13,
   "metadata": {
    "collapsed": false
   },
   "outputs": [
    {
     "name": "stdout",
     "output_type": "stream",
     "text": [
      "Lahore\n"
     ]
    }
   ],
   "source": [
    "print(dic[2.0][1])"
   ]
  },
  {
   "cell_type": "code",
   "execution_count": 9,
   "metadata": {
    "collapsed": false
   },
   "outputs": [
    {
     "name": "stdout",
     "output_type": "stream",
     "text": [
      "a 10\n",
      "15 Hello\n",
      "2.0 Pakistan\n"
     ]
    }
   ],
   "source": [
    "for key,value in dic.items():\n",
    "    print(key,value)"
   ]
  },
  {
   "cell_type": "code",
   "execution_count": 14,
   "metadata": {
    "collapsed": true
   },
   "outputs": [],
   "source": [
    "alien_0 = {'color': 'green', 'points': 5}\n",
    "alien_1 = {'color': 'yellow', 'points': 10} \n",
    "alien_2 = {'color': 'red', 'points': 15}\n",
    "\n",
    "aliens = [alien_0, alien_1, alien_2]"
   ]
  },
  {
   "cell_type": "code",
   "execution_count": 15,
   "metadata": {
    "collapsed": false
   },
   "outputs": [
    {
     "name": "stdout",
     "output_type": "stream",
     "text": [
      "[{'color': 'green', 'points': 5}, {'color': 'yellow', 'points': 10}, {'color': 'red', 'points': 15}]\n"
     ]
    }
   ],
   "source": [
    "print(aliens)"
   ]
  },
  {
   "cell_type": "code",
   "execution_count": 18,
   "metadata": {
    "collapsed": false
   },
   "outputs": [
    {
     "name": "stdout",
     "output_type": "stream",
     "text": [
      "10\n"
     ]
    }
   ],
   "source": [
    "print(aliens[1]['points'])"
   ]
  },
  {
   "cell_type": "code",
   "execution_count": 21,
   "metadata": {
    "collapsed": false
   },
   "outputs": [],
   "source": [
    "for aliens_numbers in range(30):\n",
    "    new_alien = {'color': 'green', 'points': 5, 'speed': 'slow'}\n",
    "    aliens.append(new_alien)            "
   ]
  },
  {
   "cell_type": "code",
   "execution_count": 24,
   "metadata": {
    "collapsed": false
   },
   "outputs": [
    {
     "name": "stdout",
     "output_type": "stream",
     "text": [
      "{'color': 'green', 'points': 5}\n",
      "{'color': 'yellow', 'points': 10}\n",
      "{'color': 'red', 'points': 15}\n",
      "{'color': 'green', 'points': 5, 'speed': 'slow'}\n",
      "{'color': 'green', 'points': 5, 'speed': 'slow'}\n",
      "{'color': 'green', 'points': 5, 'speed': 'slow'}\n",
      "{'color': 'green', 'points': 5, 'speed': 'slow'}\n",
      "{'color': 'green', 'points': 5, 'speed': 'slow'}\n",
      "{'color': 'green', 'points': 5, 'speed': 'slow'}\n",
      "{'color': 'green', 'points': 5, 'speed': 'slow'}\n",
      "{'color': 'green', 'points': 5, 'speed': 'slow'}\n",
      "{'color': 'green', 'points': 5, 'speed': 'slow'}\n",
      "{'color': 'green', 'points': 5, 'speed': 'slow'}\n",
      "{'color': 'green', 'points': 5, 'speed': 'slow'}\n",
      "{'color': 'green', 'points': 5, 'speed': 'slow'}\n",
      "{'color': 'green', 'points': 5, 'speed': 'slow'}\n",
      "{'color': 'green', 'points': 5, 'speed': 'slow'}\n",
      "{'color': 'green', 'points': 5, 'speed': 'slow'}\n",
      "{'color': 'green', 'points': 5, 'speed': 'slow'}\n",
      "{'color': 'green', 'points': 5, 'speed': 'slow'}\n",
      "{'color': 'green', 'points': 5, 'speed': 'slow'}\n",
      "{'color': 'green', 'points': 5, 'speed': 'slow'}\n",
      "{'color': 'green', 'points': 5, 'speed': 'slow'}\n",
      "{'color': 'green', 'points': 5, 'speed': 'slow'}\n",
      "{'color': 'green', 'points': 5, 'speed': 'slow'}\n",
      "{'color': 'green', 'points': 5, 'speed': 'slow'}\n",
      "{'color': 'green', 'points': 5, 'speed': 'slow'}\n",
      "{'color': 'green', 'points': 5, 'speed': 'slow'}\n",
      "{'color': 'green', 'points': 5, 'speed': 'slow'}\n",
      "{'color': 'green', 'points': 5, 'speed': 'slow'}\n",
      "{'color': 'green', 'points': 5, 'speed': 'slow'}\n",
      "{'color': 'green', 'points': 5, 'speed': 'slow'}\n",
      "{'color': 'green', 'points': 5, 'speed': 'slow'}\n"
     ]
    }
   ],
   "source": [
    "for alien in aliens:\n",
    "    print(alien)"
   ]
  },
  {
   "cell_type": "code",
   "execution_count": 28,
   "metadata": {
    "collapsed": true
   },
   "outputs": [],
   "source": [
    "for alien in aliens[:5]:\n",
    "    alien['color'] = 'yellow'"
   ]
  },
  {
   "cell_type": "code",
   "execution_count": 29,
   "metadata": {
    "collapsed": false
   },
   "outputs": [
    {
     "name": "stdout",
     "output_type": "stream",
     "text": [
      "{'color': 'yellow', 'points': 5}\n",
      "{'color': 'yellow', 'points': 10}\n",
      "{'color': 'yellow', 'points': 15}\n",
      "{'color': 'yellow', 'points': 5, 'speed': 'slow'}\n",
      "{'color': 'yellow', 'points': 5, 'speed': 'slow'}\n",
      "{'color': 'green', 'points': 5, 'speed': 'slow'}\n",
      "{'color': 'green', 'points': 5, 'speed': 'slow'}\n",
      "{'color': 'green', 'points': 5, 'speed': 'slow'}\n",
      "{'color': 'green', 'points': 5, 'speed': 'slow'}\n",
      "{'color': 'green', 'points': 5, 'speed': 'slow'}\n",
      "{'color': 'green', 'points': 5, 'speed': 'slow'}\n",
      "{'color': 'green', 'points': 5, 'speed': 'slow'}\n",
      "{'color': 'green', 'points': 5, 'speed': 'slow'}\n",
      "{'color': 'green', 'points': 5, 'speed': 'slow'}\n",
      "{'color': 'green', 'points': 5, 'speed': 'slow'}\n",
      "{'color': 'green', 'points': 5, 'speed': 'slow'}\n",
      "{'color': 'green', 'points': 5, 'speed': 'slow'}\n",
      "{'color': 'green', 'points': 5, 'speed': 'slow'}\n",
      "{'color': 'green', 'points': 5, 'speed': 'slow'}\n",
      "{'color': 'green', 'points': 5, 'speed': 'slow'}\n",
      "{'color': 'green', 'points': 5, 'speed': 'slow'}\n",
      "{'color': 'green', 'points': 5, 'speed': 'slow'}\n",
      "{'color': 'green', 'points': 5, 'speed': 'slow'}\n",
      "{'color': 'green', 'points': 5, 'speed': 'slow'}\n",
      "{'color': 'green', 'points': 5, 'speed': 'slow'}\n",
      "{'color': 'green', 'points': 5, 'speed': 'slow'}\n",
      "{'color': 'green', 'points': 5, 'speed': 'slow'}\n",
      "{'color': 'green', 'points': 5, 'speed': 'slow'}\n",
      "{'color': 'green', 'points': 5, 'speed': 'slow'}\n",
      "{'color': 'green', 'points': 5, 'speed': 'slow'}\n",
      "{'color': 'green', 'points': 5, 'speed': 'slow'}\n",
      "{'color': 'green', 'points': 5, 'speed': 'slow'}\n",
      "{'color': 'green', 'points': 5, 'speed': 'slow'}\n"
     ]
    }
   ],
   "source": [
    "for alien in aliens:\n",
    "    print(alien)"
   ]
  },
  {
   "cell_type": "code",
   "execution_count": 31,
   "metadata": {
    "collapsed": false
   },
   "outputs": [],
   "source": [
    "for alien in aliens[:5]:\n",
    "     if alien['color'] == 'yellow':\n",
    "        alien['speed'] = 'medium'\n",
    "        alien['points'] = 10"
   ]
  },
  {
   "cell_type": "code",
   "execution_count": 32,
   "metadata": {
    "collapsed": false
   },
   "outputs": [
    {
     "name": "stdout",
     "output_type": "stream",
     "text": [
      "{'color': 'yellow', 'points': 10, 'speed': 'medium'}\n",
      "{'color': 'yellow', 'points': 10, 'speed': 'medium'}\n",
      "{'color': 'yellow', 'points': 10, 'speed': 'medium'}\n",
      "{'color': 'yellow', 'points': 10, 'speed': 'medium'}\n",
      "{'color': 'yellow', 'points': 10, 'speed': 'medium'}\n",
      "{'color': 'green', 'points': 5, 'speed': 'slow'}\n",
      "{'color': 'green', 'points': 5, 'speed': 'slow'}\n",
      "{'color': 'green', 'points': 5, 'speed': 'slow'}\n",
      "{'color': 'green', 'points': 5, 'speed': 'slow'}\n",
      "{'color': 'green', 'points': 5, 'speed': 'slow'}\n",
      "{'color': 'green', 'points': 5, 'speed': 'slow'}\n",
      "{'color': 'green', 'points': 5, 'speed': 'slow'}\n",
      "{'color': 'green', 'points': 5, 'speed': 'slow'}\n",
      "{'color': 'green', 'points': 5, 'speed': 'slow'}\n",
      "{'color': 'green', 'points': 5, 'speed': 'slow'}\n",
      "{'color': 'green', 'points': 5, 'speed': 'slow'}\n",
      "{'color': 'green', 'points': 5, 'speed': 'slow'}\n",
      "{'color': 'green', 'points': 5, 'speed': 'slow'}\n",
      "{'color': 'green', 'points': 5, 'speed': 'slow'}\n",
      "{'color': 'green', 'points': 5, 'speed': 'slow'}\n",
      "{'color': 'green', 'points': 5, 'speed': 'slow'}\n",
      "{'color': 'green', 'points': 5, 'speed': 'slow'}\n",
      "{'color': 'green', 'points': 5, 'speed': 'slow'}\n",
      "{'color': 'green', 'points': 5, 'speed': 'slow'}\n",
      "{'color': 'green', 'points': 5, 'speed': 'slow'}\n",
      "{'color': 'green', 'points': 5, 'speed': 'slow'}\n",
      "{'color': 'green', 'points': 5, 'speed': 'slow'}\n",
      "{'color': 'green', 'points': 5, 'speed': 'slow'}\n",
      "{'color': 'green', 'points': 5, 'speed': 'slow'}\n",
      "{'color': 'green', 'points': 5, 'speed': 'slow'}\n",
      "{'color': 'green', 'points': 5, 'speed': 'slow'}\n",
      "{'color': 'green', 'points': 5, 'speed': 'slow'}\n",
      "{'color': 'green', 'points': 5, 'speed': 'slow'}\n"
     ]
    }
   ],
   "source": [
    "for alien in aliens:\n",
    "    print(alien)"
   ]
  },
  {
   "cell_type": "code",
   "execution_count": 34,
   "metadata": {
    "collapsed": false
   },
   "outputs": [],
   "source": [
    "users = {    \n",
    "    \n",
    "    'aeinstein': {        \n",
    "    'first': 'albert',        \n",
    "    'last': 'einstein',        \n",
    "    'location': 'princeton'},\n",
    "    \n",
    "    'mcurie': {        \n",
    "        'first': 'marie',        \n",
    "        'last': 'curie',        \n",
    "        'location': 'paris'},\n",
    "    \n",
    "}"
   ]
  },
  {
   "cell_type": "code",
   "execution_count": 35,
   "metadata": {
    "collapsed": false
   },
   "outputs": [
    {
     "name": "stdout",
     "output_type": "stream",
     "text": [
      "paris\n"
     ]
    }
   ],
   "source": [
    "print(users['mcurie']['location'])"
   ]
  },
  {
   "cell_type": "markdown",
   "metadata": {},
   "source": [
    "# Chapter 7"
   ]
  },
  {
   "cell_type": "code",
   "execution_count": 44,
   "metadata": {
    "collapsed": false
   },
   "outputs": [
    {
     "name": "stdout",
     "output_type": "stream",
     "text": [
      "\n",
      "Tell me something, and I will repeat it back to you:\n",
      "Enter 'quit' to end the program: Hello World\n",
      "Hello World !\n",
      "\n",
      "Tell me something, and I will repeat it back to you:\n",
      "Enter 'quit' to end the program: Pakistan Zindabad\n",
      "Pakistan Zindabad !\n",
      "\n",
      "Tell me something, and I will repeat it back to you:\n",
      "Enter 'quit' to end the program: quit\n"
     ]
    }
   ],
   "source": [
    "prompt = \"\\nTell me something, and I will repeat it back to you:\" \n",
    "prompt += \"\\nEnter 'quit' to end the program\"\n",
    "prompt += \": \"\n",
    "\n",
    "message = \"\"\n",
    "active = True\n",
    "while active:\n",
    "    message = input(prompt)\n",
    "    if message.lower() == 'quit':\n",
    "        active = False\n",
    "        \n",
    "    else:\n",
    "        print(message,\"!\")"
   ]
  },
  {
   "cell_type": "code",
   "execution_count": 45,
   "metadata": {
    "collapsed": false
   },
   "outputs": [
    {
     "name": "stdout",
     "output_type": "stream",
     "text": [
      "\n",
      "Tell me something, and I will repeat it back to you:\n",
      "Enter 'quit' to end the program: hello\n",
      "hello !\n",
      "\n",
      "Tell me something, and I will repeat it back to you:\n",
      "Enter 'quit' to end the program: quit\n"
     ]
    }
   ],
   "source": [
    "prompt = \"\\nTell me something, and I will repeat it back to you:\" \n",
    "prompt += \"\\nEnter 'quit' to end the program\"\n",
    "prompt += \": \"\n",
    "\n",
    "message = \"\"\n",
    "active = True\n",
    "while message.lower() != 'quit':\n",
    "    \n",
    "    message = input(prompt)\n",
    "    \n",
    "    if message.lower() == 'quit':\n",
    "        break\n",
    "        \n",
    "    else:\n",
    "        print(message,\"!\")"
   ]
  },
  {
   "cell_type": "code",
   "execution_count": null,
   "metadata": {
    "collapsed": false
   },
   "outputs": [],
   "source": [
    "unconfirnmed_users = ['Alice','brain','candace','david']\n",
    "confirmed_users = []\n",
    "while unconfirnmed_users:\n",
    "    confirmed_users.append(unconfirnmed_users.pop())\n",
    "\n",
    "for user in confirmed_users:\n",
    "    print(user)"
   ]
  },
  {
   "cell_type": "code",
   "execution_count": 2,
   "metadata": {
    "collapsed": true
   },
   "outputs": [],
   "source": [
    "x,y,z = (\"Hello World\",10,2.25)"
   ]
  },
  {
   "cell_type": "code",
   "execution_count": 3,
   "metadata": {
    "collapsed": false
   },
   "outputs": [
    {
     "data": {
      "text/plain": [
       "'Hello World'"
      ]
     },
     "execution_count": 3,
     "metadata": {},
     "output_type": "execute_result"
    }
   ],
   "source": [
    "x"
   ]
  },
  {
   "cell_type": "code",
   "execution_count": 4,
   "metadata": {
    "collapsed": false
   },
   "outputs": [
    {
     "data": {
      "text/plain": [
       "10"
      ]
     },
     "execution_count": 4,
     "metadata": {},
     "output_type": "execute_result"
    }
   ],
   "source": [
    "y"
   ]
  },
  {
   "cell_type": "code",
   "execution_count": 5,
   "metadata": {
    "collapsed": false
   },
   "outputs": [
    {
     "data": {
      "text/plain": [
       "2.25"
      ]
     },
     "execution_count": 5,
     "metadata": {},
     "output_type": "execute_result"
    }
   ],
   "source": [
    "z"
   ]
  },
  {
   "cell_type": "code",
   "execution_count": 8,
   "metadata": {
    "collapsed": false
   },
   "outputs": [
    {
     "data": {
      "text/plain": [
       "2.09"
      ]
     },
     "execution_count": 8,
     "metadata": {},
     "output_type": "execute_result"
    }
   ],
   "source": [
    "2 + 9 /\\\n",
    "100"
   ]
  },
  {
   "cell_type": "code",
   "execution_count": 13,
   "metadata": {
    "collapsed": false
   },
   "outputs": [
    {
     "data": {
      "text/plain": [
       "'a'"
      ]
     },
     "execution_count": 13,
     "metadata": {},
     "output_type": "execute_result"
    }
   ],
   "source": [
    "\"FRIday\"[4]"
   ]
  },
  {
   "cell_type": "code",
   "execution_count": 17,
   "metadata": {
    "collapsed": false
   },
   "outputs": [
    {
     "data": {
      "text/plain": [
       "True"
      ]
     },
     "execution_count": 17,
     "metadata": {},
     "output_type": "execute_result"
    }
   ],
   "source": [
    "10 is not 100"
   ]
  },
  {
   "cell_type": "code",
   "execution_count": 25,
   "metadata": {
    "collapsed": true
   },
   "outputs": [],
   "source": [
    "def x_y(a,b):\n",
    "    return a+b,a-b,a/b,a*b"
   ]
  },
  {
   "cell_type": "code",
   "execution_count": 26,
   "metadata": {
    "collapsed": false
   },
   "outputs": [
    {
     "data": {
      "text/plain": [
       "(20, 10, 3.0, 75)"
      ]
     },
     "execution_count": 26,
     "metadata": {},
     "output_type": "execute_result"
    }
   ],
   "source": [
    "x_y(15,5)"
   ]
  },
  {
   "cell_type": "code",
   "execution_count": 29,
   "metadata": {
    "collapsed": false
   },
   "outputs": [],
   "source": [
    "out = []\n",
    "for n in x_y(15,5):\n",
    "    out.append(n)"
   ]
  },
  {
   "cell_type": "code",
   "execution_count": 30,
   "metadata": {
    "collapsed": false
   },
   "outputs": [
    {
     "name": "stdout",
     "output_type": "stream",
     "text": [
      "[20, 10, 3.0, 75]\n"
     ]
    }
   ],
   "source": [
    "print(out)"
   ]
  },
  {
   "cell_type": "code",
   "execution_count": 35,
   "metadata": {
    "collapsed": false
   },
   "outputs": [
    {
     "data": {
      "text/plain": [
       "(70, 120)"
      ]
     },
     "execution_count": 35,
     "metadata": {},
     "output_type": "execute_result"
    }
   ],
   "source": [
    "def double(x):\n",
    "    return x + x\n",
    "\n",
    "def plus_bonus(x):\n",
    "    return double(x)+50\n",
    "\n",
    "plus_bonus(10),double(60)"
   ]
  },
  {
   "cell_type": "code",
   "execution_count": 36,
   "metadata": {
    "collapsed": false
   },
   "outputs": [
    {
     "data": {
      "text/plain": [
       "4"
      ]
     },
     "execution_count": 36,
     "metadata": {},
     "output_type": "execute_result"
    }
   ],
   "source": [
    "pow(2,2)"
   ]
  },
  {
   "cell_type": "code",
   "execution_count": 37,
   "metadata": {
    "collapsed": false
   },
   "outputs": [
    {
     "data": {
      "text/plain": [
       "4"
      ]
     },
     "execution_count": 37,
     "metadata": {},
     "output_type": "execute_result"
    }
   ],
   "source": [
    "2**2"
   ]
  },
  {
   "cell_type": "code",
   "execution_count": 39,
   "metadata": {
    "collapsed": false
   },
   "outputs": [
    {
     "data": {
      "text/plain": [
       "10.99986"
      ]
     },
     "execution_count": 39,
     "metadata": {},
     "output_type": "execute_result"
    }
   ],
   "source": [
    "round(10.9998576,5)"
   ]
  },
  {
   "cell_type": "code",
   "execution_count": 86,
   "metadata": {
    "collapsed": true
   },
   "outputs": [],
   "source": [
    "names = [\"Ali\",'Bilal',\"Zabi\"]"
   ]
  },
  {
   "cell_type": "code",
   "execution_count": 87,
   "metadata": {
    "collapsed": false
   },
   "outputs": [
    {
     "data": {
      "text/plain": [
       "['Ali', 'Bilal', 'Zabi']"
      ]
     },
     "execution_count": 87,
     "metadata": {},
     "output_type": "execute_result"
    }
   ],
   "source": [
    "names"
   ]
  },
  {
   "cell_type": "code",
   "execution_count": 88,
   "metadata": {
    "collapsed": false
   },
   "outputs": [],
   "source": [
    "names.append(\"khan\")"
   ]
  },
  {
   "cell_type": "code",
   "execution_count": 89,
   "metadata": {
    "collapsed": false
   },
   "outputs": [
    {
     "data": {
      "text/plain": [
       "['Ali', 'Bilal', 'Zabi', 'khan']"
      ]
     },
     "execution_count": 89,
     "metadata": {},
     "output_type": "execute_result"
    }
   ],
   "source": [
    "names"
   ]
  },
  {
   "cell_type": "code",
   "execution_count": 74,
   "metadata": {
    "collapsed": true
   },
   "outputs": [],
   "source": [
    "names.extend(\"Ayub\")"
   ]
  },
  {
   "cell_type": "code",
   "execution_count": 75,
   "metadata": {
    "collapsed": false
   },
   "outputs": [
    {
     "data": {
      "text/plain": [
       "['Ali', 'Bilal', 'Zabi', 'A', 'y', 'u', 'b']"
      ]
     },
     "execution_count": 75,
     "metadata": {},
     "output_type": "execute_result"
    }
   ],
   "source": [
    "names"
   ]
  },
  {
   "cell_type": "code",
   "execution_count": 90,
   "metadata": {
    "collapsed": false
   },
   "outputs": [],
   "source": [
    "del names[3]"
   ]
  },
  {
   "cell_type": "code",
   "execution_count": 91,
   "metadata": {
    "collapsed": false
   },
   "outputs": [],
   "source": [
    "names.extend([\"Ayub\",\"KhanBaba\"])"
   ]
  },
  {
   "cell_type": "code",
   "execution_count": 92,
   "metadata": {
    "collapsed": false
   },
   "outputs": [
    {
     "data": {
      "text/plain": [
       "['Ali', 'Bilal', 'Zabi', 'Ayub', 'KhanBaba']"
      ]
     },
     "execution_count": 92,
     "metadata": {},
     "output_type": "execute_result"
    }
   ],
   "source": [
    "names"
   ]
  },
  {
   "cell_type": "code",
   "execution_count": 93,
   "metadata": {
    "collapsed": false
   },
   "outputs": [
    {
     "data": {
      "text/plain": [
       "3"
      ]
     },
     "execution_count": 93,
     "metadata": {},
     "output_type": "execute_result"
    }
   ],
   "source": [
    " names.index('Ayub')"
   ]
  },
  {
   "cell_type": "markdown",
   "metadata": {},
   "source": [
    "dictionary\n",
    "dict['key']\n",
    "dict.get('key')"
   ]
  },
  {
   "cell_type": "code",
   "execution_count": 95,
   "metadata": {
    "collapsed": true
   },
   "outputs": [],
   "source": [
    "import random as rnd\n",
    "import numpy as np"
   ]
  },
  {
   "cell_type": "code",
   "execution_count": 104,
   "metadata": {
    "collapsed": false
   },
   "outputs": [
    {
     "data": {
      "text/plain": [
       "array([[1, 5, 4, 5, 1, 4],\n",
       "       [1, 1, 5, 5, 5, 5],\n",
       "       [2, 5, 2, 2, 4, 5],\n",
       "       [2, 1, 4, 4, 3, 2]])"
      ]
     },
     "execution_count": 104,
     "metadata": {},
     "output_type": "execute_result"
    }
   ],
   "source": [
    "np.random.randint(1,6,(4,6))"
   ]
  },
  {
   "cell_type": "code",
   "execution_count": 105,
   "metadata": {
    "collapsed": true
   },
   "outputs": [],
   "source": [
    "import pandas as pd"
   ]
  },
  {
   "cell_type": "code",
   "execution_count": 212,
   "metadata": {
    "collapsed": false
   },
   "outputs": [],
   "source": [
    "ser['Data'] = pd.Series(np.random.random(5), name=\"Column 01\")"
   ]
  },
  {
   "cell_type": "code",
   "execution_count": 213,
   "metadata": {
    "collapsed": false
   },
   "outputs": [
    {
     "data": {
      "text/plain": [
       "Data    0    0.917037\n",
       "1    0.353650\n",
       "2    0.807667\n",
       "3   ...\n",
       "Name: Column 01, dtype: object"
      ]
     },
     "execution_count": 213,
     "metadata": {},
     "output_type": "execute_result"
    }
   ],
   "source": [
    "ser[['Data']]"
   ]
  },
  {
   "cell_type": "code",
   "execution_count": 214,
   "metadata": {
    "collapsed": false
   },
   "outputs": [
    {
     "data": {
      "text/plain": [
       "0.08644481049099972"
      ]
     },
     "execution_count": 214,
     "metadata": {},
     "output_type": "execute_result"
    }
   ],
   "source": [
    "ser[2]"
   ]
  },
  {
   "cell_type": "code",
   "execution_count": 215,
   "metadata": {
    "collapsed": false
   },
   "outputs": [],
   "source": [
    "from pandas_datareader import data as wb"
   ]
  },
  {
   "cell_type": "code",
   "execution_count": 216,
   "metadata": {
    "collapsed": false
   },
   "outputs": [],
   "source": [
    "# Procter and Gamble: PG\n",
    "# Apple: AAPL\n",
    "# Microsoft: MSFT\n",
    "\n",
    "PG =  wb.DataReader('PG', data_source='yahoo', start='1995-01-01')"
   ]
  },
  {
   "cell_type": "code",
   "execution_count": 217,
   "metadata": {
    "collapsed": false
   },
   "outputs": [
    {
     "data": {
      "text/html": [
       "<div>\n",
       "<table border=\"1\" class=\"dataframe\">\n",
       "  <thead>\n",
       "    <tr style=\"text-align: right;\">\n",
       "      <th></th>\n",
       "      <th>Open</th>\n",
       "      <th>High</th>\n",
       "      <th>Low</th>\n",
       "      <th>Close</th>\n",
       "      <th>Adj Close</th>\n",
       "      <th>Volume</th>\n",
       "    </tr>\n",
       "    <tr>\n",
       "      <th>Date</th>\n",
       "      <th></th>\n",
       "      <th></th>\n",
       "      <th></th>\n",
       "      <th></th>\n",
       "      <th></th>\n",
       "      <th></th>\n",
       "    </tr>\n",
       "  </thead>\n",
       "  <tbody>\n",
       "    <tr>\n",
       "      <th>1995-01-03</th>\n",
       "      <td>15.468750</td>\n",
       "      <td>15.625000</td>\n",
       "      <td>15.437500</td>\n",
       "      <td>15.593750</td>\n",
       "      <td>9.027610</td>\n",
       "      <td>3318400</td>\n",
       "    </tr>\n",
       "    <tr>\n",
       "      <th>1995-01-04</th>\n",
       "      <td>15.531250</td>\n",
       "      <td>15.656250</td>\n",
       "      <td>15.312500</td>\n",
       "      <td>15.468750</td>\n",
       "      <td>8.955246</td>\n",
       "      <td>2218800</td>\n",
       "    </tr>\n",
       "    <tr>\n",
       "      <th>1995-01-05</th>\n",
       "      <td>15.375000</td>\n",
       "      <td>15.437500</td>\n",
       "      <td>15.218750</td>\n",
       "      <td>15.250000</td>\n",
       "      <td>8.828607</td>\n",
       "      <td>2319600</td>\n",
       "    </tr>\n",
       "    <tr>\n",
       "      <th>1995-01-06</th>\n",
       "      <td>15.156250</td>\n",
       "      <td>15.406250</td>\n",
       "      <td>15.156250</td>\n",
       "      <td>15.281250</td>\n",
       "      <td>8.846698</td>\n",
       "      <td>3438000</td>\n",
       "    </tr>\n",
       "    <tr>\n",
       "      <th>1995-01-09</th>\n",
       "      <td>15.343750</td>\n",
       "      <td>15.406250</td>\n",
       "      <td>15.187500</td>\n",
       "      <td>15.218750</td>\n",
       "      <td>8.810512</td>\n",
       "      <td>1795200</td>\n",
       "    </tr>\n",
       "    <tr>\n",
       "      <th>1995-01-10</th>\n",
       "      <td>15.281250</td>\n",
       "      <td>15.437500</td>\n",
       "      <td>15.187500</td>\n",
       "      <td>15.406250</td>\n",
       "      <td>8.919065</td>\n",
       "      <td>4364000</td>\n",
       "    </tr>\n",
       "    <tr>\n",
       "      <th>1995-01-11</th>\n",
       "      <td>15.593750</td>\n",
       "      <td>15.593750</td>\n",
       "      <td>15.375000</td>\n",
       "      <td>15.375000</td>\n",
       "      <td>8.900970</td>\n",
       "      <td>3738400</td>\n",
       "    </tr>\n",
       "    <tr>\n",
       "      <th>1995-01-12</th>\n",
       "      <td>15.375000</td>\n",
       "      <td>15.531250</td>\n",
       "      <td>15.312500</td>\n",
       "      <td>15.531250</td>\n",
       "      <td>8.991429</td>\n",
       "      <td>3307600</td>\n",
       "    </tr>\n",
       "    <tr>\n",
       "      <th>1995-01-13</th>\n",
       "      <td>15.593750</td>\n",
       "      <td>15.843750</td>\n",
       "      <td>15.531250</td>\n",
       "      <td>15.625000</td>\n",
       "      <td>9.096954</td>\n",
       "      <td>3992800</td>\n",
       "    </tr>\n",
       "    <tr>\n",
       "      <th>1995-01-16</th>\n",
       "      <td>15.906250</td>\n",
       "      <td>15.968750</td>\n",
       "      <td>15.750000</td>\n",
       "      <td>15.750000</td>\n",
       "      <td>9.169730</td>\n",
       "      <td>3677200</td>\n",
       "    </tr>\n",
       "    <tr>\n",
       "      <th>1995-01-17</th>\n",
       "      <td>15.718750</td>\n",
       "      <td>15.812500</td>\n",
       "      <td>15.656250</td>\n",
       "      <td>15.812500</td>\n",
       "      <td>9.206117</td>\n",
       "      <td>2437600</td>\n",
       "    </tr>\n",
       "    <tr>\n",
       "      <th>1995-01-18</th>\n",
       "      <td>15.687500</td>\n",
       "      <td>15.750000</td>\n",
       "      <td>15.437500</td>\n",
       "      <td>15.468750</td>\n",
       "      <td>9.005984</td>\n",
       "      <td>3535200</td>\n",
       "    </tr>\n",
       "    <tr>\n",
       "      <th>1995-01-19</th>\n",
       "      <td>15.343750</td>\n",
       "      <td>15.406250</td>\n",
       "      <td>15.343750</td>\n",
       "      <td>15.406250</td>\n",
       "      <td>8.969593</td>\n",
       "      <td>2491200</td>\n",
       "    </tr>\n",
       "    <tr>\n",
       "      <th>1995-01-20</th>\n",
       "      <td>15.406250</td>\n",
       "      <td>15.406250</td>\n",
       "      <td>15.250000</td>\n",
       "      <td>15.343750</td>\n",
       "      <td>8.933213</td>\n",
       "      <td>5130800</td>\n",
       "    </tr>\n",
       "    <tr>\n",
       "      <th>1995-01-23</th>\n",
       "      <td>15.187500</td>\n",
       "      <td>15.500000</td>\n",
       "      <td>15.187500</td>\n",
       "      <td>15.500000</td>\n",
       "      <td>9.024179</td>\n",
       "      <td>3147200</td>\n",
       "    </tr>\n",
       "    <tr>\n",
       "      <th>1995-01-24</th>\n",
       "      <td>15.500000</td>\n",
       "      <td>15.531250</td>\n",
       "      <td>15.375000</td>\n",
       "      <td>15.468750</td>\n",
       "      <td>9.005984</td>\n",
       "      <td>2016400</td>\n",
       "    </tr>\n",
       "    <tr>\n",
       "      <th>1995-01-25</th>\n",
       "      <td>15.500000</td>\n",
       "      <td>15.781250</td>\n",
       "      <td>15.437500</td>\n",
       "      <td>15.687500</td>\n",
       "      <td>9.133345</td>\n",
       "      <td>2802400</td>\n",
       "    </tr>\n",
       "    <tr>\n",
       "      <th>1995-01-26</th>\n",
       "      <td>15.718750</td>\n",
       "      <td>15.843750</td>\n",
       "      <td>15.687500</td>\n",
       "      <td>15.750000</td>\n",
       "      <td>9.169730</td>\n",
       "      <td>3124000</td>\n",
       "    </tr>\n",
       "    <tr>\n",
       "      <th>1995-01-27</th>\n",
       "      <td>15.812500</td>\n",
       "      <td>16.250000</td>\n",
       "      <td>15.812500</td>\n",
       "      <td>16.187500</td>\n",
       "      <td>9.424442</td>\n",
       "      <td>6247200</td>\n",
       "    </tr>\n",
       "    <tr>\n",
       "      <th>1995-01-30</th>\n",
       "      <td>16.125000</td>\n",
       "      <td>16.562500</td>\n",
       "      <td>16.093750</td>\n",
       "      <td>16.437500</td>\n",
       "      <td>9.569995</td>\n",
       "      <td>5226400</td>\n",
       "    </tr>\n",
       "    <tr>\n",
       "      <th>1995-01-31</th>\n",
       "      <td>16.343750</td>\n",
       "      <td>16.500000</td>\n",
       "      <td>16.281250</td>\n",
       "      <td>16.281250</td>\n",
       "      <td>9.479025</td>\n",
       "      <td>3934800</td>\n",
       "    </tr>\n",
       "    <tr>\n",
       "      <th>1995-02-01</th>\n",
       "      <td>16.343750</td>\n",
       "      <td>16.343750</td>\n",
       "      <td>15.937500</td>\n",
       "      <td>15.968750</td>\n",
       "      <td>9.297089</td>\n",
       "      <td>3047200</td>\n",
       "    </tr>\n",
       "    <tr>\n",
       "      <th>1995-02-02</th>\n",
       "      <td>15.968750</td>\n",
       "      <td>16.125000</td>\n",
       "      <td>15.875000</td>\n",
       "      <td>16.093750</td>\n",
       "      <td>9.369864</td>\n",
       "      <td>3810400</td>\n",
       "    </tr>\n",
       "    <tr>\n",
       "      <th>1995-02-03</th>\n",
       "      <td>16.218750</td>\n",
       "      <td>16.375000</td>\n",
       "      <td>16.187500</td>\n",
       "      <td>16.250000</td>\n",
       "      <td>9.460831</td>\n",
       "      <td>4442800</td>\n",
       "    </tr>\n",
       "    <tr>\n",
       "      <th>1995-02-06</th>\n",
       "      <td>16.281250</td>\n",
       "      <td>16.625000</td>\n",
       "      <td>16.281250</td>\n",
       "      <td>16.625000</td>\n",
       "      <td>9.679154</td>\n",
       "      <td>4003600</td>\n",
       "    </tr>\n",
       "    <tr>\n",
       "      <th>1995-02-07</th>\n",
       "      <td>16.562500</td>\n",
       "      <td>16.593750</td>\n",
       "      <td>16.406250</td>\n",
       "      <td>16.593750</td>\n",
       "      <td>9.660966</td>\n",
       "      <td>2380400</td>\n",
       "    </tr>\n",
       "    <tr>\n",
       "      <th>1995-02-08</th>\n",
       "      <td>16.593750</td>\n",
       "      <td>16.593750</td>\n",
       "      <td>16.406250</td>\n",
       "      <td>16.406250</td>\n",
       "      <td>9.551802</td>\n",
       "      <td>2481200</td>\n",
       "    </tr>\n",
       "    <tr>\n",
       "      <th>1995-02-09</th>\n",
       "      <td>16.437500</td>\n",
       "      <td>16.468750</td>\n",
       "      <td>16.312500</td>\n",
       "      <td>16.375000</td>\n",
       "      <td>9.533609</td>\n",
       "      <td>2143600</td>\n",
       "    </tr>\n",
       "    <tr>\n",
       "      <th>1995-02-10</th>\n",
       "      <td>16.343750</td>\n",
       "      <td>16.406250</td>\n",
       "      <td>16.156250</td>\n",
       "      <td>16.343750</td>\n",
       "      <td>9.515415</td>\n",
       "      <td>2445600</td>\n",
       "    </tr>\n",
       "    <tr>\n",
       "      <th>1995-02-13</th>\n",
       "      <td>16.312500</td>\n",
       "      <td>16.468750</td>\n",
       "      <td>16.312500</td>\n",
       "      <td>16.468750</td>\n",
       "      <td>9.588191</td>\n",
       "      <td>1726400</td>\n",
       "    </tr>\n",
       "    <tr>\n",
       "      <th>...</th>\n",
       "      <td>...</td>\n",
       "      <td>...</td>\n",
       "      <td>...</td>\n",
       "      <td>...</td>\n",
       "      <td>...</td>\n",
       "      <td>...</td>\n",
       "    </tr>\n",
       "    <tr>\n",
       "      <th>2017-08-25</th>\n",
       "      <td>92.650002</td>\n",
       "      <td>92.860001</td>\n",
       "      <td>92.410004</td>\n",
       "      <td>92.510002</td>\n",
       "      <td>92.510002</td>\n",
       "      <td>4933000</td>\n",
       "    </tr>\n",
       "    <tr>\n",
       "      <th>2017-08-28</th>\n",
       "      <td>92.519997</td>\n",
       "      <td>92.709999</td>\n",
       "      <td>91.980003</td>\n",
       "      <td>92.470001</td>\n",
       "      <td>92.470001</td>\n",
       "      <td>5386500</td>\n",
       "    </tr>\n",
       "    <tr>\n",
       "      <th>2017-08-29</th>\n",
       "      <td>92.480003</td>\n",
       "      <td>92.690002</td>\n",
       "      <td>92.239998</td>\n",
       "      <td>92.320000</td>\n",
       "      <td>92.320000</td>\n",
       "      <td>3676300</td>\n",
       "    </tr>\n",
       "    <tr>\n",
       "      <th>2017-08-30</th>\n",
       "      <td>92.080002</td>\n",
       "      <td>92.080002</td>\n",
       "      <td>91.660004</td>\n",
       "      <td>91.870003</td>\n",
       "      <td>91.870003</td>\n",
       "      <td>4709600</td>\n",
       "    </tr>\n",
       "    <tr>\n",
       "      <th>2017-08-31</th>\n",
       "      <td>91.889999</td>\n",
       "      <td>92.389999</td>\n",
       "      <td>91.839996</td>\n",
       "      <td>92.269997</td>\n",
       "      <td>92.269997</td>\n",
       "      <td>5864400</td>\n",
       "    </tr>\n",
       "    <tr>\n",
       "      <th>2017-09-01</th>\n",
       "      <td>92.419998</td>\n",
       "      <td>92.660004</td>\n",
       "      <td>92.260002</td>\n",
       "      <td>92.529999</td>\n",
       "      <td>92.529999</td>\n",
       "      <td>4960700</td>\n",
       "    </tr>\n",
       "    <tr>\n",
       "      <th>2017-09-05</th>\n",
       "      <td>92.180000</td>\n",
       "      <td>92.739998</td>\n",
       "      <td>92.040001</td>\n",
       "      <td>92.720001</td>\n",
       "      <td>92.720001</td>\n",
       "      <td>6532100</td>\n",
       "    </tr>\n",
       "    <tr>\n",
       "      <th>2017-09-06</th>\n",
       "      <td>92.790001</td>\n",
       "      <td>92.910004</td>\n",
       "      <td>92.360001</td>\n",
       "      <td>92.720001</td>\n",
       "      <td>92.720001</td>\n",
       "      <td>6747200</td>\n",
       "    </tr>\n",
       "    <tr>\n",
       "      <th>2017-09-07</th>\n",
       "      <td>92.739998</td>\n",
       "      <td>93.360001</td>\n",
       "      <td>92.330002</td>\n",
       "      <td>92.970001</td>\n",
       "      <td>92.970001</td>\n",
       "      <td>7735400</td>\n",
       "    </tr>\n",
       "    <tr>\n",
       "      <th>2017-09-08</th>\n",
       "      <td>92.760002</td>\n",
       "      <td>93.150002</td>\n",
       "      <td>92.510002</td>\n",
       "      <td>92.839996</td>\n",
       "      <td>92.839996</td>\n",
       "      <td>6070100</td>\n",
       "    </tr>\n",
       "    <tr>\n",
       "      <th>2017-09-11</th>\n",
       "      <td>93.089996</td>\n",
       "      <td>94.190002</td>\n",
       "      <td>92.900002</td>\n",
       "      <td>93.989998</td>\n",
       "      <td>93.989998</td>\n",
       "      <td>10177300</td>\n",
       "    </tr>\n",
       "    <tr>\n",
       "      <th>2017-09-12</th>\n",
       "      <td>93.720001</td>\n",
       "      <td>93.980003</td>\n",
       "      <td>93.209999</td>\n",
       "      <td>93.510002</td>\n",
       "      <td>93.510002</td>\n",
       "      <td>5804000</td>\n",
       "    </tr>\n",
       "    <tr>\n",
       "      <th>2017-09-13</th>\n",
       "      <td>93.500000</td>\n",
       "      <td>93.769997</td>\n",
       "      <td>93.449997</td>\n",
       "      <td>93.550003</td>\n",
       "      <td>93.550003</td>\n",
       "      <td>5369300</td>\n",
       "    </tr>\n",
       "    <tr>\n",
       "      <th>2017-09-14</th>\n",
       "      <td>93.230003</td>\n",
       "      <td>93.650002</td>\n",
       "      <td>93.180000</td>\n",
       "      <td>93.550003</td>\n",
       "      <td>93.550003</td>\n",
       "      <td>5492300</td>\n",
       "    </tr>\n",
       "    <tr>\n",
       "      <th>2017-09-15</th>\n",
       "      <td>93.820000</td>\n",
       "      <td>93.820000</td>\n",
       "      <td>92.820000</td>\n",
       "      <td>93.269997</td>\n",
       "      <td>93.269997</td>\n",
       "      <td>12428800</td>\n",
       "    </tr>\n",
       "    <tr>\n",
       "      <th>2017-09-18</th>\n",
       "      <td>93.169998</td>\n",
       "      <td>93.500000</td>\n",
       "      <td>92.860001</td>\n",
       "      <td>93.150002</td>\n",
       "      <td>93.150002</td>\n",
       "      <td>6177700</td>\n",
       "    </tr>\n",
       "    <tr>\n",
       "      <th>2017-09-19</th>\n",
       "      <td>93.339996</td>\n",
       "      <td>94.449997</td>\n",
       "      <td>93.339996</td>\n",
       "      <td>94.169998</td>\n",
       "      <td>94.169998</td>\n",
       "      <td>6587200</td>\n",
       "    </tr>\n",
       "    <tr>\n",
       "      <th>2017-09-20</th>\n",
       "      <td>94.169998</td>\n",
       "      <td>94.669998</td>\n",
       "      <td>93.830002</td>\n",
       "      <td>94.400002</td>\n",
       "      <td>94.400002</td>\n",
       "      <td>5941500</td>\n",
       "    </tr>\n",
       "    <tr>\n",
       "      <th>2017-09-21</th>\n",
       "      <td>94.150002</td>\n",
       "      <td>94.500000</td>\n",
       "      <td>92.449997</td>\n",
       "      <td>92.639999</td>\n",
       "      <td>92.639999</td>\n",
       "      <td>9376700</td>\n",
       "    </tr>\n",
       "    <tr>\n",
       "      <th>2017-09-22</th>\n",
       "      <td>92.550003</td>\n",
       "      <td>93.000000</td>\n",
       "      <td>92.080002</td>\n",
       "      <td>92.239998</td>\n",
       "      <td>92.239998</td>\n",
       "      <td>6837700</td>\n",
       "    </tr>\n",
       "    <tr>\n",
       "      <th>2017-09-25</th>\n",
       "      <td>92.430000</td>\n",
       "      <td>93.089996</td>\n",
       "      <td>92.330002</td>\n",
       "      <td>92.720001</td>\n",
       "      <td>92.720001</td>\n",
       "      <td>6436200</td>\n",
       "    </tr>\n",
       "    <tr>\n",
       "      <th>2017-09-26</th>\n",
       "      <td>92.820000</td>\n",
       "      <td>92.849998</td>\n",
       "      <td>92.199997</td>\n",
       "      <td>92.650002</td>\n",
       "      <td>92.650002</td>\n",
       "      <td>4885200</td>\n",
       "    </tr>\n",
       "    <tr>\n",
       "      <th>2017-09-27</th>\n",
       "      <td>92.519997</td>\n",
       "      <td>92.519997</td>\n",
       "      <td>90.339996</td>\n",
       "      <td>90.870003</td>\n",
       "      <td>90.870003</td>\n",
       "      <td>9631200</td>\n",
       "    </tr>\n",
       "    <tr>\n",
       "      <th>2017-09-28</th>\n",
       "      <td>90.860001</td>\n",
       "      <td>91.120003</td>\n",
       "      <td>90.629997</td>\n",
       "      <td>90.889999</td>\n",
       "      <td>90.889999</td>\n",
       "      <td>4999800</td>\n",
       "    </tr>\n",
       "    <tr>\n",
       "      <th>2017-09-29</th>\n",
       "      <td>90.970001</td>\n",
       "      <td>91.430000</td>\n",
       "      <td>90.699997</td>\n",
       "      <td>90.980003</td>\n",
       "      <td>90.980003</td>\n",
       "      <td>6634500</td>\n",
       "    </tr>\n",
       "    <tr>\n",
       "      <th>2017-10-02</th>\n",
       "      <td>91.260002</td>\n",
       "      <td>92.400002</td>\n",
       "      <td>91.239998</td>\n",
       "      <td>91.769997</td>\n",
       "      <td>91.769997</td>\n",
       "      <td>7302400</td>\n",
       "    </tr>\n",
       "    <tr>\n",
       "      <th>2017-10-03</th>\n",
       "      <td>91.959999</td>\n",
       "      <td>92.339996</td>\n",
       "      <td>91.559998</td>\n",
       "      <td>92.120003</td>\n",
       "      <td>92.120003</td>\n",
       "      <td>5909900</td>\n",
       "    </tr>\n",
       "    <tr>\n",
       "      <th>2017-10-04</th>\n",
       "      <td>92.120003</td>\n",
       "      <td>92.800003</td>\n",
       "      <td>92.019997</td>\n",
       "      <td>92.419998</td>\n",
       "      <td>92.419998</td>\n",
       "      <td>6140700</td>\n",
       "    </tr>\n",
       "    <tr>\n",
       "      <th>2017-10-05</th>\n",
       "      <td>92.489998</td>\n",
       "      <td>92.650002</td>\n",
       "      <td>91.940002</td>\n",
       "      <td>92.029999</td>\n",
       "      <td>92.029999</td>\n",
       "      <td>6912800</td>\n",
       "    </tr>\n",
       "    <tr>\n",
       "      <th>2017-10-06</th>\n",
       "      <td>92.000000</td>\n",
       "      <td>92.349998</td>\n",
       "      <td>91.879997</td>\n",
       "      <td>92.330002</td>\n",
       "      <td>92.330002</td>\n",
       "      <td>5240100</td>\n",
       "    </tr>\n",
       "  </tbody>\n",
       "</table>\n",
       "<p>5733 rows × 6 columns</p>\n",
       "</div>"
      ],
      "text/plain": [
       "                 Open       High        Low      Close  Adj Close    Volume\n",
       "Date                                                                       \n",
       "1995-01-03  15.468750  15.625000  15.437500  15.593750   9.027610   3318400\n",
       "1995-01-04  15.531250  15.656250  15.312500  15.468750   8.955246   2218800\n",
       "1995-01-05  15.375000  15.437500  15.218750  15.250000   8.828607   2319600\n",
       "1995-01-06  15.156250  15.406250  15.156250  15.281250   8.846698   3438000\n",
       "1995-01-09  15.343750  15.406250  15.187500  15.218750   8.810512   1795200\n",
       "1995-01-10  15.281250  15.437500  15.187500  15.406250   8.919065   4364000\n",
       "1995-01-11  15.593750  15.593750  15.375000  15.375000   8.900970   3738400\n",
       "1995-01-12  15.375000  15.531250  15.312500  15.531250   8.991429   3307600\n",
       "1995-01-13  15.593750  15.843750  15.531250  15.625000   9.096954   3992800\n",
       "1995-01-16  15.906250  15.968750  15.750000  15.750000   9.169730   3677200\n",
       "1995-01-17  15.718750  15.812500  15.656250  15.812500   9.206117   2437600\n",
       "1995-01-18  15.687500  15.750000  15.437500  15.468750   9.005984   3535200\n",
       "1995-01-19  15.343750  15.406250  15.343750  15.406250   8.969593   2491200\n",
       "1995-01-20  15.406250  15.406250  15.250000  15.343750   8.933213   5130800\n",
       "1995-01-23  15.187500  15.500000  15.187500  15.500000   9.024179   3147200\n",
       "1995-01-24  15.500000  15.531250  15.375000  15.468750   9.005984   2016400\n",
       "1995-01-25  15.500000  15.781250  15.437500  15.687500   9.133345   2802400\n",
       "1995-01-26  15.718750  15.843750  15.687500  15.750000   9.169730   3124000\n",
       "1995-01-27  15.812500  16.250000  15.812500  16.187500   9.424442   6247200\n",
       "1995-01-30  16.125000  16.562500  16.093750  16.437500   9.569995   5226400\n",
       "1995-01-31  16.343750  16.500000  16.281250  16.281250   9.479025   3934800\n",
       "1995-02-01  16.343750  16.343750  15.937500  15.968750   9.297089   3047200\n",
       "1995-02-02  15.968750  16.125000  15.875000  16.093750   9.369864   3810400\n",
       "1995-02-03  16.218750  16.375000  16.187500  16.250000   9.460831   4442800\n",
       "1995-02-06  16.281250  16.625000  16.281250  16.625000   9.679154   4003600\n",
       "1995-02-07  16.562500  16.593750  16.406250  16.593750   9.660966   2380400\n",
       "1995-02-08  16.593750  16.593750  16.406250  16.406250   9.551802   2481200\n",
       "1995-02-09  16.437500  16.468750  16.312500  16.375000   9.533609   2143600\n",
       "1995-02-10  16.343750  16.406250  16.156250  16.343750   9.515415   2445600\n",
       "1995-02-13  16.312500  16.468750  16.312500  16.468750   9.588191   1726400\n",
       "...               ...        ...        ...        ...        ...       ...\n",
       "2017-08-25  92.650002  92.860001  92.410004  92.510002  92.510002   4933000\n",
       "2017-08-28  92.519997  92.709999  91.980003  92.470001  92.470001   5386500\n",
       "2017-08-29  92.480003  92.690002  92.239998  92.320000  92.320000   3676300\n",
       "2017-08-30  92.080002  92.080002  91.660004  91.870003  91.870003   4709600\n",
       "2017-08-31  91.889999  92.389999  91.839996  92.269997  92.269997   5864400\n",
       "2017-09-01  92.419998  92.660004  92.260002  92.529999  92.529999   4960700\n",
       "2017-09-05  92.180000  92.739998  92.040001  92.720001  92.720001   6532100\n",
       "2017-09-06  92.790001  92.910004  92.360001  92.720001  92.720001   6747200\n",
       "2017-09-07  92.739998  93.360001  92.330002  92.970001  92.970001   7735400\n",
       "2017-09-08  92.760002  93.150002  92.510002  92.839996  92.839996   6070100\n",
       "2017-09-11  93.089996  94.190002  92.900002  93.989998  93.989998  10177300\n",
       "2017-09-12  93.720001  93.980003  93.209999  93.510002  93.510002   5804000\n",
       "2017-09-13  93.500000  93.769997  93.449997  93.550003  93.550003   5369300\n",
       "2017-09-14  93.230003  93.650002  93.180000  93.550003  93.550003   5492300\n",
       "2017-09-15  93.820000  93.820000  92.820000  93.269997  93.269997  12428800\n",
       "2017-09-18  93.169998  93.500000  92.860001  93.150002  93.150002   6177700\n",
       "2017-09-19  93.339996  94.449997  93.339996  94.169998  94.169998   6587200\n",
       "2017-09-20  94.169998  94.669998  93.830002  94.400002  94.400002   5941500\n",
       "2017-09-21  94.150002  94.500000  92.449997  92.639999  92.639999   9376700\n",
       "2017-09-22  92.550003  93.000000  92.080002  92.239998  92.239998   6837700\n",
       "2017-09-25  92.430000  93.089996  92.330002  92.720001  92.720001   6436200\n",
       "2017-09-26  92.820000  92.849998  92.199997  92.650002  92.650002   4885200\n",
       "2017-09-27  92.519997  92.519997  90.339996  90.870003  90.870003   9631200\n",
       "2017-09-28  90.860001  91.120003  90.629997  90.889999  90.889999   4999800\n",
       "2017-09-29  90.970001  91.430000  90.699997  90.980003  90.980003   6634500\n",
       "2017-10-02  91.260002  92.400002  91.239998  91.769997  91.769997   7302400\n",
       "2017-10-03  91.959999  92.339996  91.559998  92.120003  92.120003   5909900\n",
       "2017-10-04  92.120003  92.800003  92.019997  92.419998  92.419998   6140700\n",
       "2017-10-05  92.489998  92.650002  91.940002  92.029999  92.029999   6912800\n",
       "2017-10-06  92.000000  92.349998  91.879997  92.330002  92.330002   5240100\n",
       "\n",
       "[5733 rows x 6 columns]"
      ]
     },
     "execution_count": 217,
     "metadata": {},
     "output_type": "execute_result"
    }
   ],
   "source": [
    "PG"
   ]
  },
  {
   "cell_type": "code",
   "execution_count": 139,
   "metadata": {
    "collapsed": false
   },
   "outputs": [
    {
     "name": "stdout",
     "output_type": "stream",
     "text": [
      "<class 'pandas.core.frame.DataFrame'>\n",
      "DatetimeIndex: 5733 entries, 1995-01-03 to 2017-10-06\n",
      "Data columns (total 6 columns):\n",
      "Open         5733 non-null float64\n",
      "High         5733 non-null float64\n",
      "Low          5733 non-null float64\n",
      "Close        5733 non-null float64\n",
      "Adj Close    5733 non-null float64\n",
      "Volume       5733 non-null int64\n",
      "dtypes: float64(5), int64(1)\n",
      "memory usage: 313.5 KB\n"
     ]
    }
   ],
   "source": [
    "PG.info()"
   ]
  },
  {
   "cell_type": "code",
   "execution_count": 141,
   "metadata": {
    "collapsed": false
   },
   "outputs": [
    {
     "data": {
      "text/html": [
       "<div>\n",
       "<table border=\"1\" class=\"dataframe\">\n",
       "  <thead>\n",
       "    <tr style=\"text-align: right;\">\n",
       "      <th></th>\n",
       "      <th>Open</th>\n",
       "      <th>High</th>\n",
       "      <th>Low</th>\n",
       "      <th>Close</th>\n",
       "      <th>Adj Close</th>\n",
       "      <th>Volume</th>\n",
       "    </tr>\n",
       "    <tr>\n",
       "      <th>Date</th>\n",
       "      <th></th>\n",
       "      <th></th>\n",
       "      <th></th>\n",
       "      <th></th>\n",
       "      <th></th>\n",
       "      <th></th>\n",
       "    </tr>\n",
       "  </thead>\n",
       "  <tbody>\n",
       "    <tr>\n",
       "      <th>2017-09-25</th>\n",
       "      <td>92.430000</td>\n",
       "      <td>93.089996</td>\n",
       "      <td>92.330002</td>\n",
       "      <td>92.720001</td>\n",
       "      <td>92.720001</td>\n",
       "      <td>6436200</td>\n",
       "    </tr>\n",
       "    <tr>\n",
       "      <th>2017-09-26</th>\n",
       "      <td>92.820000</td>\n",
       "      <td>92.849998</td>\n",
       "      <td>92.199997</td>\n",
       "      <td>92.650002</td>\n",
       "      <td>92.650002</td>\n",
       "      <td>4885200</td>\n",
       "    </tr>\n",
       "    <tr>\n",
       "      <th>2017-09-27</th>\n",
       "      <td>92.519997</td>\n",
       "      <td>92.519997</td>\n",
       "      <td>90.339996</td>\n",
       "      <td>90.870003</td>\n",
       "      <td>90.870003</td>\n",
       "      <td>9631200</td>\n",
       "    </tr>\n",
       "    <tr>\n",
       "      <th>2017-09-28</th>\n",
       "      <td>90.860001</td>\n",
       "      <td>91.120003</td>\n",
       "      <td>90.629997</td>\n",
       "      <td>90.889999</td>\n",
       "      <td>90.889999</td>\n",
       "      <td>4999800</td>\n",
       "    </tr>\n",
       "    <tr>\n",
       "      <th>2017-09-29</th>\n",
       "      <td>90.970001</td>\n",
       "      <td>91.430000</td>\n",
       "      <td>90.699997</td>\n",
       "      <td>90.980003</td>\n",
       "      <td>90.980003</td>\n",
       "      <td>6634500</td>\n",
       "    </tr>\n",
       "    <tr>\n",
       "      <th>2017-10-02</th>\n",
       "      <td>91.260002</td>\n",
       "      <td>92.400002</td>\n",
       "      <td>91.239998</td>\n",
       "      <td>91.769997</td>\n",
       "      <td>91.769997</td>\n",
       "      <td>7302400</td>\n",
       "    </tr>\n",
       "    <tr>\n",
       "      <th>2017-10-03</th>\n",
       "      <td>91.959999</td>\n",
       "      <td>92.339996</td>\n",
       "      <td>91.559998</td>\n",
       "      <td>92.120003</td>\n",
       "      <td>92.120003</td>\n",
       "      <td>5909900</td>\n",
       "    </tr>\n",
       "    <tr>\n",
       "      <th>2017-10-04</th>\n",
       "      <td>92.120003</td>\n",
       "      <td>92.800003</td>\n",
       "      <td>92.019997</td>\n",
       "      <td>92.419998</td>\n",
       "      <td>92.419998</td>\n",
       "      <td>6140700</td>\n",
       "    </tr>\n",
       "    <tr>\n",
       "      <th>2017-10-05</th>\n",
       "      <td>92.489998</td>\n",
       "      <td>92.650002</td>\n",
       "      <td>91.940002</td>\n",
       "      <td>92.029999</td>\n",
       "      <td>92.029999</td>\n",
       "      <td>6912800</td>\n",
       "    </tr>\n",
       "    <tr>\n",
       "      <th>2017-10-06</th>\n",
       "      <td>92.000000</td>\n",
       "      <td>92.349998</td>\n",
       "      <td>91.879997</td>\n",
       "      <td>92.330002</td>\n",
       "      <td>92.330002</td>\n",
       "      <td>5240100</td>\n",
       "    </tr>\n",
       "  </tbody>\n",
       "</table>\n",
       "</div>"
      ],
      "text/plain": [
       "                 Open       High        Low      Close  Adj Close   Volume\n",
       "Date                                                                      \n",
       "2017-09-25  92.430000  93.089996  92.330002  92.720001  92.720001  6436200\n",
       "2017-09-26  92.820000  92.849998  92.199997  92.650002  92.650002  4885200\n",
       "2017-09-27  92.519997  92.519997  90.339996  90.870003  90.870003  9631200\n",
       "2017-09-28  90.860001  91.120003  90.629997  90.889999  90.889999  4999800\n",
       "2017-09-29  90.970001  91.430000  90.699997  90.980003  90.980003  6634500\n",
       "2017-10-02  91.260002  92.400002  91.239998  91.769997  91.769997  7302400\n",
       "2017-10-03  91.959999  92.339996  91.559998  92.120003  92.120003  5909900\n",
       "2017-10-04  92.120003  92.800003  92.019997  92.419998  92.419998  6140700\n",
       "2017-10-05  92.489998  92.650002  91.940002  92.029999  92.029999  6912800\n",
       "2017-10-06  92.000000  92.349998  91.879997  92.330002  92.330002  5240100"
      ]
     },
     "execution_count": 141,
     "metadata": {},
     "output_type": "execute_result"
    }
   ],
   "source": [
    "PG.tail(10)"
   ]
  },
  {
   "cell_type": "code",
   "execution_count": 218,
   "metadata": {
    "collapsed": false
   },
   "outputs": [],
   "source": [
    "tickers = ['PG','MSFT','T','F','GE']\n",
    "new_data = pd.DataFrame()\n",
    "for t in tickers:\n",
    "    new_data[t] = wb.DataReader(t, data_source='yahoo', start='1995-1-1')['Adj Close']"
   ]
  },
  {
   "cell_type": "code",
   "execution_count": 219,
   "metadata": {
    "collapsed": false
   },
   "outputs": [
    {
     "data": {
      "text/html": [
       "<div>\n",
       "<table border=\"1\" class=\"dataframe\">\n",
       "  <thead>\n",
       "    <tr style=\"text-align: right;\">\n",
       "      <th></th>\n",
       "      <th>PG</th>\n",
       "      <th>MSFT</th>\n",
       "      <th>T</th>\n",
       "      <th>F</th>\n",
       "      <th>GE</th>\n",
       "    </tr>\n",
       "    <tr>\n",
       "      <th>Date</th>\n",
       "      <th></th>\n",
       "      <th></th>\n",
       "      <th></th>\n",
       "      <th></th>\n",
       "      <th></th>\n",
       "    </tr>\n",
       "  </thead>\n",
       "  <tbody>\n",
       "    <tr>\n",
       "      <th>2017-10-02</th>\n",
       "      <td>91.769997</td>\n",
       "      <td>74.610001</td>\n",
       "      <td>38.624962</td>\n",
       "      <td>12.09</td>\n",
       "      <td>24.570000</td>\n",
       "    </tr>\n",
       "    <tr>\n",
       "      <th>2017-10-03</th>\n",
       "      <td>92.120003</td>\n",
       "      <td>74.260002</td>\n",
       "      <td>38.990372</td>\n",
       "      <td>12.34</td>\n",
       "      <td>24.799999</td>\n",
       "    </tr>\n",
       "    <tr>\n",
       "      <th>2017-10-04</th>\n",
       "      <td>92.419998</td>\n",
       "      <td>74.690002</td>\n",
       "      <td>39.010124</td>\n",
       "      <td>12.30</td>\n",
       "      <td>24.480000</td>\n",
       "    </tr>\n",
       "    <tr>\n",
       "      <th>2017-10-05</th>\n",
       "      <td>92.029999</td>\n",
       "      <td>75.970001</td>\n",
       "      <td>39.019997</td>\n",
       "      <td>12.25</td>\n",
       "      <td>24.540001</td>\n",
       "    </tr>\n",
       "    <tr>\n",
       "      <th>2017-10-06</th>\n",
       "      <td>92.330002</td>\n",
       "      <td>76.000000</td>\n",
       "      <td>38.590000</td>\n",
       "      <td>12.31</td>\n",
       "      <td>24.389999</td>\n",
       "    </tr>\n",
       "  </tbody>\n",
       "</table>\n",
       "</div>"
      ],
      "text/plain": [
       "                   PG       MSFT          T      F         GE\n",
       "Date                                                         \n",
       "2017-10-02  91.769997  74.610001  38.624962  12.09  24.570000\n",
       "2017-10-03  92.120003  74.260002  38.990372  12.34  24.799999\n",
       "2017-10-04  92.419998  74.690002  39.010124  12.30  24.480000\n",
       "2017-10-05  92.029999  75.970001  39.019997  12.25  24.540001\n",
       "2017-10-06  92.330002  76.000000  38.590000  12.31  24.389999"
      ]
     },
     "execution_count": 219,
     "metadata": {},
     "output_type": "execute_result"
    }
   ],
   "source": [
    "new_data.tail()"
   ]
  },
  {
   "cell_type": "code",
   "execution_count": 236,
   "metadata": {
    "collapsed": false
   },
   "outputs": [],
   "source": [
    "tickers = ['PG','MSFT','T','F','GE']\n",
    "new_data = pd.DataFrame()\n",
    "for t in tickers:\n",
    "    new_data[t] = wb.DataReader(t, data_source='yahoo', start='1995-1-1')['Open']"
   ]
  },
  {
   "cell_type": "code",
   "execution_count": 237,
   "metadata": {
    "collapsed": false
   },
   "outputs": [
    {
     "data": {
      "text/html": [
       "<div>\n",
       "<table border=\"1\" class=\"dataframe\">\n",
       "  <thead>\n",
       "    <tr style=\"text-align: right;\">\n",
       "      <th></th>\n",
       "      <th>PG</th>\n",
       "      <th>MSFT</th>\n",
       "      <th>T</th>\n",
       "      <th>F</th>\n",
       "      <th>GE</th>\n",
       "    </tr>\n",
       "    <tr>\n",
       "      <th>Date</th>\n",
       "      <th></th>\n",
       "      <th></th>\n",
       "      <th></th>\n",
       "      <th></th>\n",
       "      <th></th>\n",
       "    </tr>\n",
       "  </thead>\n",
       "  <tbody>\n",
       "    <tr>\n",
       "      <th>1995-01-03</th>\n",
       "      <td>15.46875</td>\n",
       "      <td>3.843750</td>\n",
       "      <td>20.1875</td>\n",
       "      <td>10.218671</td>\n",
       "      <td>8.458333</td>\n",
       "    </tr>\n",
       "    <tr>\n",
       "      <th>1995-01-04</th>\n",
       "      <td>15.53125</td>\n",
       "      <td>3.765625</td>\n",
       "      <td>19.8750</td>\n",
       "      <td>10.218671</td>\n",
       "      <td>8.500000</td>\n",
       "    </tr>\n",
       "    <tr>\n",
       "      <th>1995-01-05</th>\n",
       "      <td>15.37500</td>\n",
       "      <td>3.804688</td>\n",
       "      <td>20.0000</td>\n",
       "      <td>10.538004</td>\n",
       "      <td>8.458333</td>\n",
       "    </tr>\n",
       "    <tr>\n",
       "      <th>1995-01-06</th>\n",
       "      <td>15.15625</td>\n",
       "      <td>3.742188</td>\n",
       "      <td>20.3125</td>\n",
       "      <td>10.401147</td>\n",
       "      <td>8.500000</td>\n",
       "    </tr>\n",
       "    <tr>\n",
       "      <th>1995-01-09</th>\n",
       "      <td>15.34375</td>\n",
       "      <td>3.804688</td>\n",
       "      <td>20.2500</td>\n",
       "      <td>10.401147</td>\n",
       "      <td>8.437500</td>\n",
       "    </tr>\n",
       "  </tbody>\n",
       "</table>\n",
       "</div>"
      ],
      "text/plain": [
       "                  PG      MSFT        T          F        GE\n",
       "Date                                                        \n",
       "1995-01-03  15.46875  3.843750  20.1875  10.218671  8.458333\n",
       "1995-01-04  15.53125  3.765625  19.8750  10.218671  8.500000\n",
       "1995-01-05  15.37500  3.804688  20.0000  10.538004  8.458333\n",
       "1995-01-06  15.15625  3.742188  20.3125  10.401147  8.500000\n",
       "1995-01-09  15.34375  3.804688  20.2500  10.401147  8.437500"
      ]
     },
     "execution_count": 237,
     "metadata": {},
     "output_type": "execute_result"
    }
   ],
   "source": [
    "new_data.head()"
   ]
  },
  {
   "cell_type": "code",
   "execution_count": null,
   "metadata": {
    "collapsed": true
   },
   "outputs": [],
   "source": [
    "import quandl"
   ]
  },
  {
   "cell_type": "code",
   "execution_count": null,
   "metadata": {
    "collapsed": false
   },
   "outputs": [],
   "source": [
    "mydata_01 = quandl.get(\"FRED/GDP\")\n",
    "mydata_01.info()"
   ]
  },
  {
   "cell_type": "code",
   "execution_count": null,
   "metadata": {
    "collapsed": false
   },
   "outputs": [],
   "source": [
    "mydata_01.head()"
   ]
  },
  {
   "cell_type": "code",
   "execution_count": null,
   "metadata": {
    "collapsed": true
   },
   "outputs": [],
   "source": [
    "import numpy as np\n",
    "from pandas_datareader import data as wb\n",
    "from matplotlib import pyplot as plt"
   ]
  },
  {
   "cell_type": "code",
   "execution_count": null,
   "metadata": {
    "collapsed": false
   },
   "outputs": [],
   "source": [
    "%matplotlib"
   ]
  },
  {
   "cell_type": "code",
   "execution_count": 239,
   "metadata": {
    "collapsed": false
   },
   "outputs": [],
   "source": [
    "PG = wb.DataReader('PG', data_source='yahoo', start='1995-1-1')"
   ]
  },
  {
   "cell_type": "code",
   "execution_count": 240,
   "metadata": {
    "collapsed": false
   },
   "outputs": [
    {
     "data": {
      "text/html": [
       "<div>\n",
       "<table border=\"1\" class=\"dataframe\">\n",
       "  <thead>\n",
       "    <tr style=\"text-align: right;\">\n",
       "      <th></th>\n",
       "      <th>Open</th>\n",
       "      <th>High</th>\n",
       "      <th>Low</th>\n",
       "      <th>Close</th>\n",
       "      <th>Adj Close</th>\n",
       "      <th>Volume</th>\n",
       "    </tr>\n",
       "    <tr>\n",
       "      <th>Date</th>\n",
       "      <th></th>\n",
       "      <th></th>\n",
       "      <th></th>\n",
       "      <th></th>\n",
       "      <th></th>\n",
       "      <th></th>\n",
       "    </tr>\n",
       "  </thead>\n",
       "  <tbody>\n",
       "    <tr>\n",
       "      <th>1995-01-03</th>\n",
       "      <td>15.46875</td>\n",
       "      <td>15.62500</td>\n",
       "      <td>15.43750</td>\n",
       "      <td>15.59375</td>\n",
       "      <td>9.027610</td>\n",
       "      <td>3318400</td>\n",
       "    </tr>\n",
       "    <tr>\n",
       "      <th>1995-01-04</th>\n",
       "      <td>15.53125</td>\n",
       "      <td>15.65625</td>\n",
       "      <td>15.31250</td>\n",
       "      <td>15.46875</td>\n",
       "      <td>8.955246</td>\n",
       "      <td>2218800</td>\n",
       "    </tr>\n",
       "    <tr>\n",
       "      <th>1995-01-05</th>\n",
       "      <td>15.37500</td>\n",
       "      <td>15.43750</td>\n",
       "      <td>15.21875</td>\n",
       "      <td>15.25000</td>\n",
       "      <td>8.828607</td>\n",
       "      <td>2319600</td>\n",
       "    </tr>\n",
       "    <tr>\n",
       "      <th>1995-01-06</th>\n",
       "      <td>15.15625</td>\n",
       "      <td>15.40625</td>\n",
       "      <td>15.15625</td>\n",
       "      <td>15.28125</td>\n",
       "      <td>8.846698</td>\n",
       "      <td>3438000</td>\n",
       "    </tr>\n",
       "    <tr>\n",
       "      <th>1995-01-09</th>\n",
       "      <td>15.34375</td>\n",
       "      <td>15.40625</td>\n",
       "      <td>15.18750</td>\n",
       "      <td>15.21875</td>\n",
       "      <td>8.810512</td>\n",
       "      <td>1795200</td>\n",
       "    </tr>\n",
       "  </tbody>\n",
       "</table>\n",
       "</div>"
      ],
      "text/plain": [
       "                Open      High       Low     Close  Adj Close   Volume\n",
       "Date                                                                  \n",
       "1995-01-03  15.46875  15.62500  15.43750  15.59375   9.027610  3318400\n",
       "1995-01-04  15.53125  15.65625  15.31250  15.46875   8.955246  2218800\n",
       "1995-01-05  15.37500  15.43750  15.21875  15.25000   8.828607  2319600\n",
       "1995-01-06  15.15625  15.40625  15.15625  15.28125   8.846698  3438000\n",
       "1995-01-09  15.34375  15.40625  15.18750  15.21875   8.810512  1795200"
      ]
     },
     "execution_count": 240,
     "metadata": {},
     "output_type": "execute_result"
    }
   ],
   "source": [
    "PG.head()"
   ]
  },
  {
   "cell_type": "code",
   "execution_count": 241,
   "metadata": {
    "collapsed": true
   },
   "outputs": [],
   "source": [
    "PG['Simple return'] = (PG['Adj Close']/PG['Adj Close'].shift(1))-1"
   ]
  },
  {
   "cell_type": "code",
   "execution_count": 242,
   "metadata": {
    "collapsed": false
   },
   "outputs": [
    {
     "data": {
      "text/html": [
       "<div>\n",
       "<table border=\"1\" class=\"dataframe\">\n",
       "  <thead>\n",
       "    <tr style=\"text-align: right;\">\n",
       "      <th></th>\n",
       "      <th>Simple return</th>\n",
       "    </tr>\n",
       "    <tr>\n",
       "      <th>Date</th>\n",
       "      <th></th>\n",
       "    </tr>\n",
       "  </thead>\n",
       "  <tbody>\n",
       "    <tr>\n",
       "      <th>1995-01-03</th>\n",
       "      <td>NaN</td>\n",
       "    </tr>\n",
       "    <tr>\n",
       "      <th>1995-01-04</th>\n",
       "      <td>-0.008016</td>\n",
       "    </tr>\n",
       "    <tr>\n",
       "      <th>1995-01-05</th>\n",
       "      <td>-0.014141</td>\n",
       "    </tr>\n",
       "    <tr>\n",
       "      <th>1995-01-06</th>\n",
       "      <td>0.002049</td>\n",
       "    </tr>\n",
       "    <tr>\n",
       "      <th>1995-01-09</th>\n",
       "      <td>-0.004090</td>\n",
       "    </tr>\n",
       "    <tr>\n",
       "      <th>1995-01-10</th>\n",
       "      <td>0.012321</td>\n",
       "    </tr>\n",
       "    <tr>\n",
       "      <th>1995-01-11</th>\n",
       "      <td>-0.002029</td>\n",
       "    </tr>\n",
       "    <tr>\n",
       "      <th>1995-01-12</th>\n",
       "      <td>0.010163</td>\n",
       "    </tr>\n",
       "    <tr>\n",
       "      <th>1995-01-13</th>\n",
       "      <td>0.011736</td>\n",
       "    </tr>\n",
       "    <tr>\n",
       "      <th>1995-01-16</th>\n",
       "      <td>0.008000</td>\n",
       "    </tr>\n",
       "    <tr>\n",
       "      <th>1995-01-17</th>\n",
       "      <td>0.003968</td>\n",
       "    </tr>\n",
       "    <tr>\n",
       "      <th>1995-01-18</th>\n",
       "      <td>-0.021739</td>\n",
       "    </tr>\n",
       "    <tr>\n",
       "      <th>1995-01-19</th>\n",
       "      <td>-0.004041</td>\n",
       "    </tr>\n",
       "    <tr>\n",
       "      <th>1995-01-20</th>\n",
       "      <td>-0.004056</td>\n",
       "    </tr>\n",
       "    <tr>\n",
       "      <th>1995-01-23</th>\n",
       "      <td>0.010183</td>\n",
       "    </tr>\n",
       "    <tr>\n",
       "      <th>1995-01-24</th>\n",
       "      <td>-0.002016</td>\n",
       "    </tr>\n",
       "    <tr>\n",
       "      <th>1995-01-25</th>\n",
       "      <td>0.014142</td>\n",
       "    </tr>\n",
       "    <tr>\n",
       "      <th>1995-01-26</th>\n",
       "      <td>0.003984</td>\n",
       "    </tr>\n",
       "    <tr>\n",
       "      <th>1995-01-27</th>\n",
       "      <td>0.027777</td>\n",
       "    </tr>\n",
       "    <tr>\n",
       "      <th>1995-01-30</th>\n",
       "      <td>0.015444</td>\n",
       "    </tr>\n",
       "    <tr>\n",
       "      <th>1995-01-31</th>\n",
       "      <td>-0.009506</td>\n",
       "    </tr>\n",
       "    <tr>\n",
       "      <th>1995-02-01</th>\n",
       "      <td>-0.019194</td>\n",
       "    </tr>\n",
       "    <tr>\n",
       "      <th>1995-02-02</th>\n",
       "      <td>0.007828</td>\n",
       "    </tr>\n",
       "    <tr>\n",
       "      <th>1995-02-03</th>\n",
       "      <td>0.009708</td>\n",
       "    </tr>\n",
       "    <tr>\n",
       "      <th>1995-02-06</th>\n",
       "      <td>0.023077</td>\n",
       "    </tr>\n",
       "    <tr>\n",
       "      <th>1995-02-07</th>\n",
       "      <td>-0.001879</td>\n",
       "    </tr>\n",
       "    <tr>\n",
       "      <th>1995-02-08</th>\n",
       "      <td>-0.011299</td>\n",
       "    </tr>\n",
       "    <tr>\n",
       "      <th>1995-02-09</th>\n",
       "      <td>-0.001905</td>\n",
       "    </tr>\n",
       "    <tr>\n",
       "      <th>1995-02-10</th>\n",
       "      <td>-0.001908</td>\n",
       "    </tr>\n",
       "    <tr>\n",
       "      <th>1995-02-13</th>\n",
       "      <td>0.007648</td>\n",
       "    </tr>\n",
       "    <tr>\n",
       "      <th>...</th>\n",
       "      <td>...</td>\n",
       "    </tr>\n",
       "    <tr>\n",
       "      <th>2017-08-25</th>\n",
       "      <td>0.002601</td>\n",
       "    </tr>\n",
       "    <tr>\n",
       "      <th>2017-08-28</th>\n",
       "      <td>-0.000432</td>\n",
       "    </tr>\n",
       "    <tr>\n",
       "      <th>2017-08-29</th>\n",
       "      <td>-0.001622</td>\n",
       "    </tr>\n",
       "    <tr>\n",
       "      <th>2017-08-30</th>\n",
       "      <td>-0.004874</td>\n",
       "    </tr>\n",
       "    <tr>\n",
       "      <th>2017-08-31</th>\n",
       "      <td>0.004354</td>\n",
       "    </tr>\n",
       "    <tr>\n",
       "      <th>2017-09-01</th>\n",
       "      <td>0.002818</td>\n",
       "    </tr>\n",
       "    <tr>\n",
       "      <th>2017-09-05</th>\n",
       "      <td>0.002053</td>\n",
       "    </tr>\n",
       "    <tr>\n",
       "      <th>2017-09-06</th>\n",
       "      <td>0.000000</td>\n",
       "    </tr>\n",
       "    <tr>\n",
       "      <th>2017-09-07</th>\n",
       "      <td>0.002696</td>\n",
       "    </tr>\n",
       "    <tr>\n",
       "      <th>2017-09-08</th>\n",
       "      <td>-0.001398</td>\n",
       "    </tr>\n",
       "    <tr>\n",
       "      <th>2017-09-11</th>\n",
       "      <td>0.012387</td>\n",
       "    </tr>\n",
       "    <tr>\n",
       "      <th>2017-09-12</th>\n",
       "      <td>-0.005107</td>\n",
       "    </tr>\n",
       "    <tr>\n",
       "      <th>2017-09-13</th>\n",
       "      <td>0.000428</td>\n",
       "    </tr>\n",
       "    <tr>\n",
       "      <th>2017-09-14</th>\n",
       "      <td>0.000000</td>\n",
       "    </tr>\n",
       "    <tr>\n",
       "      <th>2017-09-15</th>\n",
       "      <td>-0.002993</td>\n",
       "    </tr>\n",
       "    <tr>\n",
       "      <th>2017-09-18</th>\n",
       "      <td>-0.001287</td>\n",
       "    </tr>\n",
       "    <tr>\n",
       "      <th>2017-09-19</th>\n",
       "      <td>0.010950</td>\n",
       "    </tr>\n",
       "    <tr>\n",
       "      <th>2017-09-20</th>\n",
       "      <td>0.002442</td>\n",
       "    </tr>\n",
       "    <tr>\n",
       "      <th>2017-09-21</th>\n",
       "      <td>-0.018644</td>\n",
       "    </tr>\n",
       "    <tr>\n",
       "      <th>2017-09-22</th>\n",
       "      <td>-0.004318</td>\n",
       "    </tr>\n",
       "    <tr>\n",
       "      <th>2017-09-25</th>\n",
       "      <td>0.005204</td>\n",
       "    </tr>\n",
       "    <tr>\n",
       "      <th>2017-09-26</th>\n",
       "      <td>-0.000755</td>\n",
       "    </tr>\n",
       "    <tr>\n",
       "      <th>2017-09-27</th>\n",
       "      <td>-0.019212</td>\n",
       "    </tr>\n",
       "    <tr>\n",
       "      <th>2017-09-28</th>\n",
       "      <td>0.000220</td>\n",
       "    </tr>\n",
       "    <tr>\n",
       "      <th>2017-09-29</th>\n",
       "      <td>0.000990</td>\n",
       "    </tr>\n",
       "    <tr>\n",
       "      <th>2017-10-02</th>\n",
       "      <td>0.008683</td>\n",
       "    </tr>\n",
       "    <tr>\n",
       "      <th>2017-10-03</th>\n",
       "      <td>0.003814</td>\n",
       "    </tr>\n",
       "    <tr>\n",
       "      <th>2017-10-04</th>\n",
       "      <td>0.003257</td>\n",
       "    </tr>\n",
       "    <tr>\n",
       "      <th>2017-10-05</th>\n",
       "      <td>-0.004220</td>\n",
       "    </tr>\n",
       "    <tr>\n",
       "      <th>2017-10-06</th>\n",
       "      <td>0.003260</td>\n",
       "    </tr>\n",
       "  </tbody>\n",
       "</table>\n",
       "<p>5733 rows × 1 columns</p>\n",
       "</div>"
      ],
      "text/plain": [
       "            Simple return\n",
       "Date                     \n",
       "1995-01-03            NaN\n",
       "1995-01-04      -0.008016\n",
       "1995-01-05      -0.014141\n",
       "1995-01-06       0.002049\n",
       "1995-01-09      -0.004090\n",
       "1995-01-10       0.012321\n",
       "1995-01-11      -0.002029\n",
       "1995-01-12       0.010163\n",
       "1995-01-13       0.011736\n",
       "1995-01-16       0.008000\n",
       "1995-01-17       0.003968\n",
       "1995-01-18      -0.021739\n",
       "1995-01-19      -0.004041\n",
       "1995-01-20      -0.004056\n",
       "1995-01-23       0.010183\n",
       "1995-01-24      -0.002016\n",
       "1995-01-25       0.014142\n",
       "1995-01-26       0.003984\n",
       "1995-01-27       0.027777\n",
       "1995-01-30       0.015444\n",
       "1995-01-31      -0.009506\n",
       "1995-02-01      -0.019194\n",
       "1995-02-02       0.007828\n",
       "1995-02-03       0.009708\n",
       "1995-02-06       0.023077\n",
       "1995-02-07      -0.001879\n",
       "1995-02-08      -0.011299\n",
       "1995-02-09      -0.001905\n",
       "1995-02-10      -0.001908\n",
       "1995-02-13       0.007648\n",
       "...                   ...\n",
       "2017-08-25       0.002601\n",
       "2017-08-28      -0.000432\n",
       "2017-08-29      -0.001622\n",
       "2017-08-30      -0.004874\n",
       "2017-08-31       0.004354\n",
       "2017-09-01       0.002818\n",
       "2017-09-05       0.002053\n",
       "2017-09-06       0.000000\n",
       "2017-09-07       0.002696\n",
       "2017-09-08      -0.001398\n",
       "2017-09-11       0.012387\n",
       "2017-09-12      -0.005107\n",
       "2017-09-13       0.000428\n",
       "2017-09-14       0.000000\n",
       "2017-09-15      -0.002993\n",
       "2017-09-18      -0.001287\n",
       "2017-09-19       0.010950\n",
       "2017-09-20       0.002442\n",
       "2017-09-21      -0.018644\n",
       "2017-09-22      -0.004318\n",
       "2017-09-25       0.005204\n",
       "2017-09-26      -0.000755\n",
       "2017-09-27      -0.019212\n",
       "2017-09-28       0.000220\n",
       "2017-09-29       0.000990\n",
       "2017-10-02       0.008683\n",
       "2017-10-03       0.003814\n",
       "2017-10-04       0.003257\n",
       "2017-10-05      -0.004220\n",
       "2017-10-06       0.003260\n",
       "\n",
       "[5733 rows x 1 columns]"
      ]
     },
     "execution_count": 242,
     "metadata": {},
     "output_type": "execute_result"
    }
   ],
   "source": [
    "PG[['Simple return']]"
   ]
  },
  {
   "cell_type": "code",
   "execution_count": 246,
   "metadata": {
    "collapsed": false
   },
   "outputs": [],
   "source": [
    "PG['Simple return'].plot(figsize=(8,5))\n",
    "plt.show()"
   ]
  },
  {
   "cell_type": "code",
   "execution_count": null,
   "metadata": {
    "collapsed": true
   },
   "outputs": [],
   "source": []
  },
  {
   "cell_type": "code",
   "execution_count": null,
   "metadata": {
    "collapsed": true
   },
   "outputs": [],
   "source": []
  }
 ],
 "metadata": {
  "kernelspec": {
   "display_name": "Python 3",
   "language": "python",
   "name": "python3"
  },
  "language_info": {
   "codemirror_mode": {
    "name": "ipython",
    "version": 3
   },
   "file_extension": ".py",
   "mimetype": "text/x-python",
   "name": "python",
   "nbconvert_exporter": "python",
   "pygments_lexer": "ipython3",
   "version": "3.6.0"
  }
 },
 "nbformat": 4,
 "nbformat_minor": 2
}
